{
 "cells": [
  {
   "cell_type": "markdown",
   "id": "e4ba51c3",
   "metadata": {
    "_cell_guid": "b1076dfc-b9ad-4769-8c92-a6c4dae69d19",
    "_uuid": "8f2839f25d086af736a60e9eeb907d3b93b6e0e5",
    "papermill": {
     "duration": 0.005616,
     "end_time": "2025-09-19T21:01:42.900135",
     "exception": false,
     "start_time": "2025-09-19T21:01:42.894519",
     "status": "completed"
    },
    "tags": []
   },
   "source": [
    "# Financial Performance Analysis Project\n",
    "*Role: Entry-Level Financial Data Analyst*  \n",
    "*Company: SaaS Tech Inc. (fictional)*  \n",
    "\n",
    "---\n",
    "\n",
    "## 🎯 Project Objective\n",
    "As a financial data analyst, I was tasked to automate the monthly **revenue & expense reporting pipeline**.  \n",
    "Key goals:  \n",
    "1. Pull and transform financial data from a relational database (SQLite).  \n",
    "2. Calculate financial KPIs (Revenue, Expenses, Net Profit, Profit Margin %).  \n",
    "3. Detect anomalies in margins.  \n",
    "4. Forecast next quarter’s revenue and expenses.  \n",
    "5. Deliver results in a format that executives can use.  \n",
    "\n",
    "---\n",
    "\n",
    "## 📂 Step 1. Load Dataset\n",
    "\n"
   ]
  },
  {
   "cell_type": "code",
   "execution_count": 1,
   "id": "0494d73b",
   "metadata": {
    "execution": {
     "iopub.execute_input": "2025-09-19T21:01:42.911545Z",
     "iopub.status.busy": "2025-09-19T21:01:42.911149Z",
     "iopub.status.idle": "2025-09-19T21:01:45.692084Z",
     "shell.execute_reply": "2025-09-19T21:01:45.691054Z"
    },
    "papermill": {
     "duration": 2.788137,
     "end_time": "2025-09-19T21:01:45.693666",
     "exception": false,
     "start_time": "2025-09-19T21:01:42.905529",
     "status": "completed"
    },
    "tags": []
   },
   "outputs": [
    {
     "name": "stdout",
     "output_type": "stream",
     "text": [
      "Dataset Path: /kaggle/input/accounting-data-for-financial-management\n"
     ]
    },
    {
     "data": {
      "text/plain": [
       "PosixPath('/kaggle/input/accounting-data-for-financial-management/accounting_data.csv')"
      ]
     },
     "execution_count": 1,
     "metadata": {},
     "output_type": "execute_result"
    }
   ],
   "source": [
    "import pandas as pd\n",
    "import kagglehub\n",
    "from pathlib import Path\n",
    "\n",
    "# Download dataset\n",
    "path = kagglehub.dataset_download(\"ziya07/accounting-data-for-financial-management\")\n",
    "print(\"Dataset Path:\", path)\n",
    "\n",
    "DATA_DIR = Path(path)\n",
    "csv_path = next(DATA_DIR.rglob(\"*.csv\"))\n",
    "csv_path\n"
   ]
  },
  {
   "cell_type": "markdown",
   "id": "c1e19574",
   "metadata": {
    "papermill": {
     "duration": 0.004538,
     "end_time": "2025-09-19T21:01:45.703401",
     "exception": false,
     "start_time": "2025-09-19T21:01:45.698863",
     "status": "completed"
    },
    "tags": []
   },
   "source": [
    "## 🔎 Step 2 — Read & Inspect\n",
    "Standardize column names. Detect a date column and quickly view dtypes.\n"
   ]
  },
  {
   "cell_type": "code",
   "execution_count": 2,
   "id": "3723461a",
   "metadata": {
    "execution": {
     "iopub.execute_input": "2025-09-19T21:01:45.715744Z",
     "iopub.status.busy": "2025-09-19T21:01:45.714104Z",
     "iopub.status.idle": "2025-09-19T21:01:45.790349Z",
     "shell.execute_reply": "2025-09-19T21:01:45.789158Z"
    },
    "papermill": {
     "duration": 0.083844,
     "end_time": "2025-09-19T21:01:45.791985",
     "exception": false,
     "start_time": "2025-09-19T21:01:45.708141",
     "status": "completed"
    },
    "tags": []
   },
   "outputs": [
    {
     "name": "stdout",
     "output_type": "stream",
     "text": [
      "Date column: date\n",
      "Columns: ['transaction_id', 'date', 'account_type', 'transaction_amount', 'cash_flow', 'net_income', 'revenue', 'expenditure', 'profit_margin', 'debt_to_equity_ratio', 'operating_expenses', 'gross_profit', 'transaction_volume', 'processing_time_seconds_', 'accuracy_score', 'missing_data_indicator', 'normalized_transaction_amount', 'transaction_outcome']\n"
     ]
    },
    {
     "data": {
      "text/html": [
       "<div>\n",
       "<style scoped>\n",
       "    .dataframe tbody tr th:only-of-type {\n",
       "        vertical-align: middle;\n",
       "    }\n",
       "\n",
       "    .dataframe tbody tr th {\n",
       "        vertical-align: top;\n",
       "    }\n",
       "\n",
       "    .dataframe thead th {\n",
       "        text-align: right;\n",
       "    }\n",
       "</style>\n",
       "<table border=\"1\" class=\"dataframe\">\n",
       "  <thead>\n",
       "    <tr style=\"text-align: right;\">\n",
       "      <th></th>\n",
       "      <th>transaction_id</th>\n",
       "      <th>date</th>\n",
       "      <th>account_type</th>\n",
       "      <th>transaction_amount</th>\n",
       "      <th>cash_flow</th>\n",
       "      <th>net_income</th>\n",
       "      <th>revenue</th>\n",
       "      <th>expenditure</th>\n",
       "      <th>profit_margin</th>\n",
       "      <th>debt_to_equity_ratio</th>\n",
       "      <th>operating_expenses</th>\n",
       "      <th>gross_profit</th>\n",
       "      <th>transaction_volume</th>\n",
       "      <th>processing_time_seconds_</th>\n",
       "      <th>accuracy_score</th>\n",
       "      <th>missing_data_indicator</th>\n",
       "      <th>normalized_transaction_amount</th>\n",
       "      <th>transaction_outcome</th>\n",
       "    </tr>\n",
       "  </thead>\n",
       "  <tbody>\n",
       "    <tr>\n",
       "      <th>0</th>\n",
       "      <td>1</td>\n",
       "      <td>2025-01-01</td>\n",
       "      <td>Asset</td>\n",
       "      <td>1176</td>\n",
       "      <td>3184</td>\n",
       "      <td>2174</td>\n",
       "      <td>3137</td>\n",
       "      <td>1823</td>\n",
       "      <td>0.607221</td>\n",
       "      <td>2.067004</td>\n",
       "      <td>4098</td>\n",
       "      <td>2327</td>\n",
       "      <td>8</td>\n",
       "      <td>1.894686</td>\n",
       "      <td>0.959936</td>\n",
       "      <td>False</td>\n",
       "      <td>0.218724</td>\n",
       "      <td>1</td>\n",
       "    </tr>\n",
       "    <tr>\n",
       "      <th>1</th>\n",
       "      <td>2</td>\n",
       "      <td>2025-01-02</td>\n",
       "      <td>Asset</td>\n",
       "      <td>1291</td>\n",
       "      <td>3221</td>\n",
       "      <td>3236</td>\n",
       "      <td>4694</td>\n",
       "      <td>2746</td>\n",
       "      <td>0.355608</td>\n",
       "      <td>2.347537</td>\n",
       "      <td>3872</td>\n",
       "      <td>388</td>\n",
       "      <td>5</td>\n",
       "      <td>1.728990</td>\n",
       "      <td>0.966382</td>\n",
       "      <td>False</td>\n",
       "      <td>0.242232</td>\n",
       "      <td>1</td>\n",
       "    </tr>\n",
       "    <tr>\n",
       "      <th>2</th>\n",
       "      <td>3</td>\n",
       "      <td>2025-01-03</td>\n",
       "      <td>Revenue</td>\n",
       "      <td>4966</td>\n",
       "      <td>3309</td>\n",
       "      <td>3689</td>\n",
       "      <td>3363</td>\n",
       "      <td>3102</td>\n",
       "      <td>0.678347</td>\n",
       "      <td>1.901003</td>\n",
       "      <td>4780</td>\n",
       "      <td>2616</td>\n",
       "      <td>2</td>\n",
       "      <td>1.707099</td>\n",
       "      <td>0.828307</td>\n",
       "      <td>False</td>\n",
       "      <td>0.993459</td>\n",
       "      <td>1</td>\n",
       "    </tr>\n",
       "    <tr>\n",
       "      <th>3</th>\n",
       "      <td>4</td>\n",
       "      <td>2025-01-04</td>\n",
       "      <td>Expense</td>\n",
       "      <td>4641</td>\n",
       "      <td>1952</td>\n",
       "      <td>245</td>\n",
       "      <td>4373</td>\n",
       "      <td>808</td>\n",
       "      <td>0.221047</td>\n",
       "      <td>0.934125</td>\n",
       "      <td>4948</td>\n",
       "      <td>2237</td>\n",
       "      <td>8</td>\n",
       "      <td>1.750641</td>\n",
       "      <td>0.984149</td>\n",
       "      <td>False</td>\n",
       "      <td>0.927024</td>\n",
       "      <td>1</td>\n",
       "    </tr>\n",
       "    <tr>\n",
       "      <th>4</th>\n",
       "      <td>5</td>\n",
       "      <td>2025-01-05</td>\n",
       "      <td>Expense</td>\n",
       "      <td>2305</td>\n",
       "      <td>2131</td>\n",
       "      <td>2037</td>\n",
       "      <td>4956</td>\n",
       "      <td>644</td>\n",
       "      <td>0.509323</td>\n",
       "      <td>1.061178</td>\n",
       "      <td>3289</td>\n",
       "      <td>1729</td>\n",
       "      <td>3</td>\n",
       "      <td>0.879708</td>\n",
       "      <td>0.929107</td>\n",
       "      <td>False</td>\n",
       "      <td>0.449509</td>\n",
       "      <td>1</td>\n",
       "    </tr>\n",
       "    <tr>\n",
       "      <th>5</th>\n",
       "      <td>6</td>\n",
       "      <td>2025-01-06</td>\n",
       "      <td>Revenue</td>\n",
       "      <td>3102</td>\n",
       "      <td>2795</td>\n",
       "      <td>1715</td>\n",
       "      <td>909</td>\n",
       "      <td>3287</td>\n",
       "      <td>0.438448</td>\n",
       "      <td>2.546492</td>\n",
       "      <td>3129</td>\n",
       "      <td>1770</td>\n",
       "      <td>2</td>\n",
       "      <td>1.294922</td>\n",
       "      <td>0.882669</td>\n",
       "      <td>False</td>\n",
       "      <td>0.612428</td>\n",
       "      <td>1</td>\n",
       "    </tr>\n",
       "    <tr>\n",
       "      <th>6</th>\n",
       "      <td>7</td>\n",
       "      <td>2025-01-07</td>\n",
       "      <td>Revenue</td>\n",
       "      <td>3847</td>\n",
       "      <td>2485</td>\n",
       "      <td>3955</td>\n",
       "      <td>4309</td>\n",
       "      <td>3011</td>\n",
       "      <td>0.771130</td>\n",
       "      <td>2.185805</td>\n",
       "      <td>3877</td>\n",
       "      <td>567</td>\n",
       "      <td>5</td>\n",
       "      <td>1.430321</td>\n",
       "      <td>0.802491</td>\n",
       "      <td>False</td>\n",
       "      <td>0.764718</td>\n",
       "      <td>1</td>\n",
       "    </tr>\n",
       "    <tr>\n",
       "      <th>7</th>\n",
       "      <td>8</td>\n",
       "      <td>2025-01-08</td>\n",
       "      <td>Asset</td>\n",
       "      <td>3061</td>\n",
       "      <td>4125</td>\n",
       "      <td>3477</td>\n",
       "      <td>612</td>\n",
       "      <td>3914</td>\n",
       "      <td>0.551012</td>\n",
       "      <td>1.090881</td>\n",
       "      <td>1875</td>\n",
       "      <td>3335</td>\n",
       "      <td>3</td>\n",
       "      <td>1.239121</td>\n",
       "      <td>0.828076</td>\n",
       "      <td>False</td>\n",
       "      <td>0.604047</td>\n",
       "      <td>1</td>\n",
       "    </tr>\n",
       "    <tr>\n",
       "      <th>8</th>\n",
       "      <td>9</td>\n",
       "      <td>2025-01-09</td>\n",
       "      <td>Expense</td>\n",
       "      <td>1490</td>\n",
       "      <td>2044</td>\n",
       "      <td>1907</td>\n",
       "      <td>3273</td>\n",
       "      <td>1045</td>\n",
       "      <td>0.412441</td>\n",
       "      <td>2.932288</td>\n",
       "      <td>4847</td>\n",
       "      <td>621</td>\n",
       "      <td>2</td>\n",
       "      <td>1.517137</td>\n",
       "      <td>0.808087</td>\n",
       "      <td>False</td>\n",
       "      <td>0.282911</td>\n",
       "      <td>1</td>\n",
       "    </tr>\n",
       "    <tr>\n",
       "      <th>9</th>\n",
       "      <td>10</td>\n",
       "      <td>2025-01-10</td>\n",
       "      <td>Liability</td>\n",
       "      <td>3265</td>\n",
       "      <td>3041</td>\n",
       "      <td>2905</td>\n",
       "      <td>898</td>\n",
       "      <td>3931</td>\n",
       "      <td>0.789666</td>\n",
       "      <td>2.788718</td>\n",
       "      <td>2001</td>\n",
       "      <td>2829</td>\n",
       "      <td>5</td>\n",
       "      <td>0.558296</td>\n",
       "      <td>0.865846</td>\n",
       "      <td>False</td>\n",
       "      <td>0.645748</td>\n",
       "      <td>1</td>\n",
       "    </tr>\n",
       "  </tbody>\n",
       "</table>\n",
       "</div>"
      ],
      "text/plain": [
       "   transaction_id       date account_type  transaction_amount  cash_flow  \\\n",
       "0               1 2025-01-01        Asset                1176       3184   \n",
       "1               2 2025-01-02        Asset                1291       3221   \n",
       "2               3 2025-01-03      Revenue                4966       3309   \n",
       "3               4 2025-01-04      Expense                4641       1952   \n",
       "4               5 2025-01-05      Expense                2305       2131   \n",
       "5               6 2025-01-06      Revenue                3102       2795   \n",
       "6               7 2025-01-07      Revenue                3847       2485   \n",
       "7               8 2025-01-08        Asset                3061       4125   \n",
       "8               9 2025-01-09      Expense                1490       2044   \n",
       "9              10 2025-01-10    Liability                3265       3041   \n",
       "\n",
       "   net_income  revenue  expenditure  profit_margin  debt_to_equity_ratio  \\\n",
       "0        2174     3137         1823       0.607221              2.067004   \n",
       "1        3236     4694         2746       0.355608              2.347537   \n",
       "2        3689     3363         3102       0.678347              1.901003   \n",
       "3         245     4373          808       0.221047              0.934125   \n",
       "4        2037     4956          644       0.509323              1.061178   \n",
       "5        1715      909         3287       0.438448              2.546492   \n",
       "6        3955     4309         3011       0.771130              2.185805   \n",
       "7        3477      612         3914       0.551012              1.090881   \n",
       "8        1907     3273         1045       0.412441              2.932288   \n",
       "9        2905      898         3931       0.789666              2.788718   \n",
       "\n",
       "   operating_expenses  gross_profit  transaction_volume  \\\n",
       "0                4098          2327                   8   \n",
       "1                3872           388                   5   \n",
       "2                4780          2616                   2   \n",
       "3                4948          2237                   8   \n",
       "4                3289          1729                   3   \n",
       "5                3129          1770                   2   \n",
       "6                3877           567                   5   \n",
       "7                1875          3335                   3   \n",
       "8                4847           621                   2   \n",
       "9                2001          2829                   5   \n",
       "\n",
       "   processing_time_seconds_  accuracy_score  missing_data_indicator  \\\n",
       "0                  1.894686        0.959936                   False   \n",
       "1                  1.728990        0.966382                   False   \n",
       "2                  1.707099        0.828307                   False   \n",
       "3                  1.750641        0.984149                   False   \n",
       "4                  0.879708        0.929107                   False   \n",
       "5                  1.294922        0.882669                   False   \n",
       "6                  1.430321        0.802491                   False   \n",
       "7                  1.239121        0.828076                   False   \n",
       "8                  1.517137        0.808087                   False   \n",
       "9                  0.558296        0.865846                   False   \n",
       "\n",
       "   normalized_transaction_amount  transaction_outcome  \n",
       "0                       0.218724                    1  \n",
       "1                       0.242232                    1  \n",
       "2                       0.993459                    1  \n",
       "3                       0.927024                    1  \n",
       "4                       0.449509                    1  \n",
       "5                       0.612428                    1  \n",
       "6                       0.764718                    1  \n",
       "7                       0.604047                    1  \n",
       "8                       0.282911                    1  \n",
       "9                       0.645748                    1  "
      ]
     },
     "execution_count": 2,
     "metadata": {},
     "output_type": "execute_result"
    }
   ],
   "source": [
    "df = pd.read_csv(csv_path)\n",
    "\n",
    "# tidy column names\n",
    "df.columns = (df.columns.str.strip()\n",
    "                        .str.lower()\n",
    "                        .str.replace(r\"[^a-z0-9_]+\",\"_\", regex=True))\n",
    "\n",
    "# best-guess date column\n",
    "date_col = None\n",
    "for cand in [\"date\",\"transaction_date\",\"period\",\"month\",\"quarter_end\"]:\n",
    "    if cand in df.columns:\n",
    "        df[cand] = pd.to_datetime(df[cand], errors=\"coerce\")\n",
    "        date_col = cand\n",
    "        break\n",
    "\n",
    "print(\"Date column:\", date_col)\n",
    "print(\"Columns:\", df.columns.tolist())\n",
    "df.head(10)\n"
   ]
  },
  {
   "cell_type": "markdown",
   "id": "ffb7e97a",
   "metadata": {
    "papermill": {
     "duration": 0.005012,
     "end_time": "2025-09-19T21:01:45.802763",
     "exception": false,
     "start_time": "2025-09-19T21:01:45.797751",
     "status": "completed"
    },
    "tags": []
   },
   "source": [
    "## 🧹 Step 3 — Light Cleaning\n",
    "Coerce numeric where possible (removes commas), keep only rows with a valid date.\n"
   ]
  },
  {
   "cell_type": "code",
   "execution_count": 3,
   "id": "c738fbc8",
   "metadata": {
    "execution": {
     "iopub.execute_input": "2025-09-19T21:01:45.814694Z",
     "iopub.status.busy": "2025-09-19T21:01:45.814321Z",
     "iopub.status.idle": "2025-09-19T21:01:45.841012Z",
     "shell.execute_reply": "2025-09-19T21:01:45.839870Z"
    },
    "papermill": {
     "duration": 0.034585,
     "end_time": "2025-09-19T21:01:45.842620",
     "exception": false,
     "start_time": "2025-09-19T21:01:45.808035",
     "status": "completed"
    },
    "tags": []
   },
   "outputs": [
    {
     "name": "stdout",
     "output_type": "stream",
     "text": [
      "<class 'pandas.core.frame.DataFrame'>\n",
      "RangeIndex: 1000 entries, 0 to 999\n",
      "Data columns (total 18 columns):\n",
      " #   Column                         Non-Null Count  Dtype         \n",
      "---  ------                         --------------  -----         \n",
      " 0   transaction_id                 1000 non-null   int64         \n",
      " 1   date                           1000 non-null   datetime64[ns]\n",
      " 2   account_type                   1000 non-null   object        \n",
      " 3   transaction_amount             1000 non-null   int64         \n",
      " 4   cash_flow                      1000 non-null   int64         \n",
      " 5   net_income                     1000 non-null   int64         \n",
      " 6   revenue                        1000 non-null   int64         \n",
      " 7   expenditure                    1000 non-null   int64         \n",
      " 8   profit_margin                  1000 non-null   float64       \n",
      " 9   debt_to_equity_ratio           1000 non-null   float64       \n",
      " 10  operating_expenses             1000 non-null   int64         \n",
      " 11  gross_profit                   1000 non-null   int64         \n",
      " 12  transaction_volume             1000 non-null   int64         \n",
      " 13  processing_time_seconds_       1000 non-null   float64       \n",
      " 14  accuracy_score                 1000 non-null   float64       \n",
      " 15  missing_data_indicator         1000 non-null   bool          \n",
      " 16  normalized_transaction_amount  1000 non-null   float64       \n",
      " 17  transaction_outcome            1000 non-null   int64         \n",
      "dtypes: bool(1), datetime64[ns](1), float64(5), int64(10), object(1)\n",
      "memory usage: 133.9+ KB\n"
     ]
    },
    {
     "name": "stderr",
     "output_type": "stream",
     "text": [
      "/tmp/ipykernel_13/2821003563.py:5: FutureWarning: errors='ignore' is deprecated and will raise in a future version. Use to_numeric without passing `errors` and catch exceptions explicitly instead\n",
      "  df[c] = pd.to_numeric(df[c].str.replace(\",\",\"\", regex=False), errors=\"ignore\")\n"
     ]
    }
   ],
   "source": [
    "# try to coerce numeric strings\n",
    "for c in df.columns:\n",
    "    if df[c].dtype == \"object\":\n",
    "        try:\n",
    "            df[c] = pd.to_numeric(df[c].str.replace(\",\",\"\", regex=False), errors=\"ignore\")\n",
    "        except Exception:\n",
    "            pass\n",
    "\n",
    "# drop rows without a date (if any)\n",
    "if date_col:\n",
    "    df = df[df[date_col].notna()].copy()\n",
    "\n",
    "df.info()\n"
   ]
  },
  {
   "cell_type": "markdown",
   "id": "91bc0854",
   "metadata": {
    "papermill": {
     "duration": 0.005338,
     "end_time": "2025-09-19T21:01:45.853457",
     "exception": false,
     "start_time": "2025-09-19T21:01:45.848119",
     "status": "completed"
    },
    "tags": []
   },
   "source": [
    "## 🗄️ Step 4 — Simulate a Relational DB (SQLite)\n",
    "In real teams, data sits in RDBMS. We’ll write to SQLite and use SQL for rollups.\n"
   ]
  },
  {
   "cell_type": "code",
   "execution_count": 4,
   "id": "8f548edb",
   "metadata": {
    "execution": {
     "iopub.execute_input": "2025-09-19T21:01:45.866044Z",
     "iopub.status.busy": "2025-09-19T21:01:45.865451Z",
     "iopub.status.idle": "2025-09-19T21:01:45.920053Z",
     "shell.execute_reply": "2025-09-19T21:01:45.919117Z"
    },
    "papermill": {
     "duration": 0.062771,
     "end_time": "2025-09-19T21:01:45.921644",
     "exception": false,
     "start_time": "2025-09-19T21:01:45.858873",
     "status": "completed"
    },
    "tags": []
   },
   "outputs": [
    {
     "data": {
      "text/html": [
       "<div>\n",
       "<style scoped>\n",
       "    .dataframe tbody tr th:only-of-type {\n",
       "        vertical-align: middle;\n",
       "    }\n",
       "\n",
       "    .dataframe tbody tr th {\n",
       "        vertical-align: top;\n",
       "    }\n",
       "\n",
       "    .dataframe thead th {\n",
       "        text-align: right;\n",
       "    }\n",
       "</style>\n",
       "<table border=\"1\" class=\"dataframe\">\n",
       "  <thead>\n",
       "    <tr style=\"text-align: right;\">\n",
       "      <th></th>\n",
       "      <th>cid</th>\n",
       "      <th>name</th>\n",
       "      <th>type</th>\n",
       "      <th>notnull</th>\n",
       "      <th>dflt_value</th>\n",
       "      <th>pk</th>\n",
       "    </tr>\n",
       "  </thead>\n",
       "  <tbody>\n",
       "    <tr>\n",
       "      <th>0</th>\n",
       "      <td>0</td>\n",
       "      <td>transaction_id</td>\n",
       "      <td>INTEGER</td>\n",
       "      <td>0</td>\n",
       "      <td>None</td>\n",
       "      <td>0</td>\n",
       "    </tr>\n",
       "    <tr>\n",
       "      <th>1</th>\n",
       "      <td>1</td>\n",
       "      <td>date</td>\n",
       "      <td>TIMESTAMP</td>\n",
       "      <td>0</td>\n",
       "      <td>None</td>\n",
       "      <td>0</td>\n",
       "    </tr>\n",
       "    <tr>\n",
       "      <th>2</th>\n",
       "      <td>2</td>\n",
       "      <td>account_type</td>\n",
       "      <td>TEXT</td>\n",
       "      <td>0</td>\n",
       "      <td>None</td>\n",
       "      <td>0</td>\n",
       "    </tr>\n",
       "    <tr>\n",
       "      <th>3</th>\n",
       "      <td>3</td>\n",
       "      <td>transaction_amount</td>\n",
       "      <td>INTEGER</td>\n",
       "      <td>0</td>\n",
       "      <td>None</td>\n",
       "      <td>0</td>\n",
       "    </tr>\n",
       "    <tr>\n",
       "      <th>4</th>\n",
       "      <td>4</td>\n",
       "      <td>cash_flow</td>\n",
       "      <td>INTEGER</td>\n",
       "      <td>0</td>\n",
       "      <td>None</td>\n",
       "      <td>0</td>\n",
       "    </tr>\n",
       "    <tr>\n",
       "      <th>5</th>\n",
       "      <td>5</td>\n",
       "      <td>net_income</td>\n",
       "      <td>INTEGER</td>\n",
       "      <td>0</td>\n",
       "      <td>None</td>\n",
       "      <td>0</td>\n",
       "    </tr>\n",
       "    <tr>\n",
       "      <th>6</th>\n",
       "      <td>6</td>\n",
       "      <td>revenue</td>\n",
       "      <td>INTEGER</td>\n",
       "      <td>0</td>\n",
       "      <td>None</td>\n",
       "      <td>0</td>\n",
       "    </tr>\n",
       "    <tr>\n",
       "      <th>7</th>\n",
       "      <td>7</td>\n",
       "      <td>expenditure</td>\n",
       "      <td>INTEGER</td>\n",
       "      <td>0</td>\n",
       "      <td>None</td>\n",
       "      <td>0</td>\n",
       "    </tr>\n",
       "    <tr>\n",
       "      <th>8</th>\n",
       "      <td>8</td>\n",
       "      <td>profit_margin</td>\n",
       "      <td>REAL</td>\n",
       "      <td>0</td>\n",
       "      <td>None</td>\n",
       "      <td>0</td>\n",
       "    </tr>\n",
       "    <tr>\n",
       "      <th>9</th>\n",
       "      <td>9</td>\n",
       "      <td>debt_to_equity_ratio</td>\n",
       "      <td>REAL</td>\n",
       "      <td>0</td>\n",
       "      <td>None</td>\n",
       "      <td>0</td>\n",
       "    </tr>\n",
       "    <tr>\n",
       "      <th>10</th>\n",
       "      <td>10</td>\n",
       "      <td>operating_expenses</td>\n",
       "      <td>INTEGER</td>\n",
       "      <td>0</td>\n",
       "      <td>None</td>\n",
       "      <td>0</td>\n",
       "    </tr>\n",
       "    <tr>\n",
       "      <th>11</th>\n",
       "      <td>11</td>\n",
       "      <td>gross_profit</td>\n",
       "      <td>INTEGER</td>\n",
       "      <td>0</td>\n",
       "      <td>None</td>\n",
       "      <td>0</td>\n",
       "    </tr>\n",
       "    <tr>\n",
       "      <th>12</th>\n",
       "      <td>12</td>\n",
       "      <td>transaction_volume</td>\n",
       "      <td>INTEGER</td>\n",
       "      <td>0</td>\n",
       "      <td>None</td>\n",
       "      <td>0</td>\n",
       "    </tr>\n",
       "    <tr>\n",
       "      <th>13</th>\n",
       "      <td>13</td>\n",
       "      <td>processing_time_seconds_</td>\n",
       "      <td>REAL</td>\n",
       "      <td>0</td>\n",
       "      <td>None</td>\n",
       "      <td>0</td>\n",
       "    </tr>\n",
       "    <tr>\n",
       "      <th>14</th>\n",
       "      <td>14</td>\n",
       "      <td>accuracy_score</td>\n",
       "      <td>REAL</td>\n",
       "      <td>0</td>\n",
       "      <td>None</td>\n",
       "      <td>0</td>\n",
       "    </tr>\n",
       "    <tr>\n",
       "      <th>15</th>\n",
       "      <td>15</td>\n",
       "      <td>missing_data_indicator</td>\n",
       "      <td>INTEGER</td>\n",
       "      <td>0</td>\n",
       "      <td>None</td>\n",
       "      <td>0</td>\n",
       "    </tr>\n",
       "    <tr>\n",
       "      <th>16</th>\n",
       "      <td>16</td>\n",
       "      <td>normalized_transaction_amount</td>\n",
       "      <td>REAL</td>\n",
       "      <td>0</td>\n",
       "      <td>None</td>\n",
       "      <td>0</td>\n",
       "    </tr>\n",
       "    <tr>\n",
       "      <th>17</th>\n",
       "      <td>17</td>\n",
       "      <td>transaction_outcome</td>\n",
       "      <td>INTEGER</td>\n",
       "      <td>0</td>\n",
       "      <td>None</td>\n",
       "      <td>0</td>\n",
       "    </tr>\n",
       "  </tbody>\n",
       "</table>\n",
       "</div>"
      ],
      "text/plain": [
       "    cid                           name       type  notnull dflt_value  pk\n",
       "0     0                 transaction_id    INTEGER        0       None   0\n",
       "1     1                           date  TIMESTAMP        0       None   0\n",
       "2     2                   account_type       TEXT        0       None   0\n",
       "3     3             transaction_amount    INTEGER        0       None   0\n",
       "4     4                      cash_flow    INTEGER        0       None   0\n",
       "5     5                     net_income    INTEGER        0       None   0\n",
       "6     6                        revenue    INTEGER        0       None   0\n",
       "7     7                    expenditure    INTEGER        0       None   0\n",
       "8     8                  profit_margin       REAL        0       None   0\n",
       "9     9           debt_to_equity_ratio       REAL        0       None   0\n",
       "10   10             operating_expenses    INTEGER        0       None   0\n",
       "11   11                   gross_profit    INTEGER        0       None   0\n",
       "12   12             transaction_volume    INTEGER        0       None   0\n",
       "13   13       processing_time_seconds_       REAL        0       None   0\n",
       "14   14                 accuracy_score       REAL        0       None   0\n",
       "15   15         missing_data_indicator    INTEGER        0       None   0\n",
       "16   16  normalized_transaction_amount       REAL        0       None   0\n",
       "17   17            transaction_outcome    INTEGER        0       None   0"
      ]
     },
     "execution_count": 4,
     "metadata": {},
     "output_type": "execute_result"
    }
   ],
   "source": [
    "import sqlite3\n",
    "\n",
    "conn = sqlite3.connect(\"finance.db\")\n",
    "df.to_sql(\"raw_financials\", conn, if_exists=\"replace\", index=False)\n",
    "\n",
    "# sanity: list columns in the SQL table\n",
    "pd.read_sql(\"PRAGMA table_info(raw_financials);\", conn)\n"
   ]
  },
  {
   "cell_type": "markdown",
   "id": "fce6ae06",
   "metadata": {
    "papermill": {
     "duration": 0.005449,
     "end_time": "2025-09-19T21:01:45.934029",
     "exception": false,
     "start_time": "2025-09-19T21:01:45.928580",
     "status": "completed"
    },
    "tags": []
   },
   "source": [
    "## 🧮 Step 5 — Monthly Company Rollup (SQL)\n",
    "**Fix we made:** this dataset has **`expenditure`** (not `expenses`) and **no `business_unit`**.  \n",
    "We’ll aggregate to company totals by month.\n"
   ]
  },
  {
   "cell_type": "code",
   "execution_count": 5,
   "id": "f365be6c",
   "metadata": {
    "execution": {
     "iopub.execute_input": "2025-09-19T21:01:45.946848Z",
     "iopub.status.busy": "2025-09-19T21:01:45.946563Z",
     "iopub.status.idle": "2025-09-19T21:01:45.962839Z",
     "shell.execute_reply": "2025-09-19T21:01:45.961896Z"
    },
    "papermill": {
     "duration": 0.024744,
     "end_time": "2025-09-19T21:01:45.964527",
     "exception": false,
     "start_time": "2025-09-19T21:01:45.939783",
     "status": "completed"
    },
    "tags": []
   },
   "outputs": [
    {
     "data": {
      "text/html": [
       "<div>\n",
       "<style scoped>\n",
       "    .dataframe tbody tr th:only-of-type {\n",
       "        vertical-align: middle;\n",
       "    }\n",
       "\n",
       "    .dataframe tbody tr th {\n",
       "        vertical-align: top;\n",
       "    }\n",
       "\n",
       "    .dataframe thead th {\n",
       "        text-align: right;\n",
       "    }\n",
       "</style>\n",
       "<table border=\"1\" class=\"dataframe\">\n",
       "  <thead>\n",
       "    <tr style=\"text-align: right;\">\n",
       "      <th></th>\n",
       "      <th>month</th>\n",
       "      <th>total_revenue</th>\n",
       "      <th>total_expense</th>\n",
       "    </tr>\n",
       "  </thead>\n",
       "  <tbody>\n",
       "    <tr>\n",
       "      <th>0</th>\n",
       "      <td>2025-01-01</td>\n",
       "      <td>85103</td>\n",
       "      <td>58800</td>\n",
       "    </tr>\n",
       "    <tr>\n",
       "      <th>1</th>\n",
       "      <td>2025-02-01</td>\n",
       "      <td>82350</td>\n",
       "      <td>66486</td>\n",
       "    </tr>\n",
       "    <tr>\n",
       "      <th>2</th>\n",
       "      <td>2025-03-01</td>\n",
       "      <td>87633</td>\n",
       "      <td>60752</td>\n",
       "    </tr>\n",
       "    <tr>\n",
       "      <th>3</th>\n",
       "      <td>2025-04-01</td>\n",
       "      <td>87438</td>\n",
       "      <td>56546</td>\n",
       "    </tr>\n",
       "    <tr>\n",
       "      <th>4</th>\n",
       "      <td>2025-05-01</td>\n",
       "      <td>80445</td>\n",
       "      <td>46502</td>\n",
       "    </tr>\n",
       "  </tbody>\n",
       "</table>\n",
       "</div>"
      ],
      "text/plain": [
       "       month  total_revenue  total_expense\n",
       "0 2025-01-01          85103          58800\n",
       "1 2025-02-01          82350          66486\n",
       "2 2025-03-01          87633          60752\n",
       "3 2025-04-01          87438          56546\n",
       "4 2025-05-01          80445          46502"
      ]
     },
     "execution_count": 5,
     "metadata": {},
     "output_type": "execute_result"
    }
   ],
   "source": [
    "# detect the expense column name\n",
    "cols = pd.read_sql(\"PRAGMA table_info(raw_financials);\", conn)[\"name\"].tolist()\n",
    "expense_col = \"expenses\" if \"expenses\" in cols else \"expenditure\"\n",
    "\n",
    "q_company = f\"\"\"\n",
    "SELECT\n",
    "  DATE(strftime('%Y-%m-01', {date_col})) AS month,\n",
    "  SUM(COALESCE(revenue, 0))      AS total_revenue,\n",
    "  SUM(COALESCE({expense_col},0)) AS total_expense\n",
    "FROM raw_financials\n",
    "GROUP BY month\n",
    "ORDER BY month;\n",
    "\"\"\"\n",
    "company = pd.read_sql(q_company, conn, parse_dates=[\"month\"])\n",
    "company.head()\n"
   ]
  },
  {
   "cell_type": "markdown",
   "id": "4e5e1682",
   "metadata": {
    "papermill": {
     "duration": 0.005705,
     "end_time": "2025-09-19T21:01:45.976347",
     "exception": false,
     "start_time": "2025-09-19T21:01:45.970642",
     "status": "completed"
    },
    "tags": []
   },
   "source": [
    "## 🔁 (Optional) Step 5B — Breakdown by Account Type\n",
    "If you want a slice by `account_type` (e.g., Asset/Revenue/Expense), use this too.\n"
   ]
  },
  {
   "cell_type": "code",
   "execution_count": 6,
   "id": "53492acb",
   "metadata": {
    "execution": {
     "iopub.execute_input": "2025-09-19T21:01:45.989383Z",
     "iopub.status.busy": "2025-09-19T21:01:45.989060Z",
     "iopub.status.idle": "2025-09-19T21:01:46.004355Z",
     "shell.execute_reply": "2025-09-19T21:01:46.003413Z"
    },
    "papermill": {
     "duration": 0.023931,
     "end_time": "2025-09-19T21:01:46.006110",
     "exception": false,
     "start_time": "2025-09-19T21:01:45.982179",
     "status": "completed"
    },
    "tags": []
   },
   "outputs": [
    {
     "data": {
      "text/html": [
       "<div>\n",
       "<style scoped>\n",
       "    .dataframe tbody tr th:only-of-type {\n",
       "        vertical-align: middle;\n",
       "    }\n",
       "\n",
       "    .dataframe tbody tr th {\n",
       "        vertical-align: top;\n",
       "    }\n",
       "\n",
       "    .dataframe thead th {\n",
       "        text-align: right;\n",
       "    }\n",
       "</style>\n",
       "<table border=\"1\" class=\"dataframe\">\n",
       "  <thead>\n",
       "    <tr style=\"text-align: right;\">\n",
       "      <th></th>\n",
       "      <th>month</th>\n",
       "      <th>account_type</th>\n",
       "      <th>total_revenue</th>\n",
       "      <th>total_expense</th>\n",
       "    </tr>\n",
       "  </thead>\n",
       "  <tbody>\n",
       "    <tr>\n",
       "      <th>0</th>\n",
       "      <td>2025-01-01</td>\n",
       "      <td>Asset</td>\n",
       "      <td>13395</td>\n",
       "      <td>9846</td>\n",
       "    </tr>\n",
       "    <tr>\n",
       "      <th>1</th>\n",
       "      <td>2025-01-01</td>\n",
       "      <td>Expense</td>\n",
       "      <td>20948</td>\n",
       "      <td>8758</td>\n",
       "    </tr>\n",
       "    <tr>\n",
       "      <th>2</th>\n",
       "      <td>2025-01-01</td>\n",
       "      <td>Liability</td>\n",
       "      <td>17947</td>\n",
       "      <td>12551</td>\n",
       "    </tr>\n",
       "    <tr>\n",
       "      <th>3</th>\n",
       "      <td>2025-01-01</td>\n",
       "      <td>Revenue</td>\n",
       "      <td>32813</td>\n",
       "      <td>27645</td>\n",
       "    </tr>\n",
       "    <tr>\n",
       "      <th>4</th>\n",
       "      <td>2025-02-01</td>\n",
       "      <td>Asset</td>\n",
       "      <td>25010</td>\n",
       "      <td>13856</td>\n",
       "    </tr>\n",
       "  </tbody>\n",
       "</table>\n",
       "</div>"
      ],
      "text/plain": [
       "       month account_type  total_revenue  total_expense\n",
       "0 2025-01-01        Asset          13395           9846\n",
       "1 2025-01-01      Expense          20948           8758\n",
       "2 2025-01-01    Liability          17947          12551\n",
       "3 2025-01-01      Revenue          32813          27645\n",
       "4 2025-02-01        Asset          25010          13856"
      ]
     },
     "execution_count": 6,
     "metadata": {},
     "output_type": "execute_result"
    }
   ],
   "source": [
    "q_by_type = f\"\"\"\n",
    "SELECT\n",
    "  DATE(strftime('%Y-%m-01', {date_col})) AS month,\n",
    "  COALESCE(account_type, 'Unknown') AS account_type,\n",
    "  SUM(COALESCE(revenue, 0))      AS total_revenue,\n",
    "  SUM(COALESCE({expense_col},0)) AS total_expense\n",
    "FROM raw_financials\n",
    "GROUP BY month, account_type\n",
    "ORDER BY month, account_type;\n",
    "\"\"\"\n",
    "monthly_by_type = pd.read_sql(q_by_type, conn, parse_dates=[\"month\"])\n",
    "monthly_by_type.head()\n"
   ]
  },
  {
   "cell_type": "markdown",
   "id": "8fb10c22",
   "metadata": {
    "papermill": {
     "duration": 0.00621,
     "end_time": "2025-09-19T21:01:46.018702",
     "exception": false,
     "start_time": "2025-09-19T21:01:46.012492",
     "status": "completed"
    },
    "tags": []
   },
   "source": [
    "## 📊 Step 6 — KPIs & Anomaly Flags\n",
    "Compute Net Income, Margin %, and flag months where margin < 5%.\n"
   ]
  },
  {
   "cell_type": "code",
   "execution_count": 7,
   "id": "cf09011b",
   "metadata": {
    "execution": {
     "iopub.execute_input": "2025-09-19T21:01:46.032305Z",
     "iopub.status.busy": "2025-09-19T21:01:46.031967Z",
     "iopub.status.idle": "2025-09-19T21:01:46.049789Z",
     "shell.execute_reply": "2025-09-19T21:01:46.048619Z"
    },
    "papermill": {
     "duration": 0.026654,
     "end_time": "2025-09-19T21:01:46.051486",
     "exception": false,
     "start_time": "2025-09-19T21:01:46.024832",
     "status": "completed"
    },
    "tags": []
   },
   "outputs": [
    {
     "data": {
      "text/html": [
       "<div>\n",
       "<style scoped>\n",
       "    .dataframe tbody tr th:only-of-type {\n",
       "        vertical-align: middle;\n",
       "    }\n",
       "\n",
       "    .dataframe tbody tr th {\n",
       "        vertical-align: top;\n",
       "    }\n",
       "\n",
       "    .dataframe thead th {\n",
       "        text-align: right;\n",
       "    }\n",
       "</style>\n",
       "<table border=\"1\" class=\"dataframe\">\n",
       "  <thead>\n",
       "    <tr style=\"text-align: right;\">\n",
       "      <th></th>\n",
       "      <th>month</th>\n",
       "      <th>total_revenue</th>\n",
       "      <th>total_expense</th>\n",
       "      <th>net_income</th>\n",
       "      <th>margin_pct</th>\n",
       "      <th>anomaly_flag</th>\n",
       "    </tr>\n",
       "  </thead>\n",
       "  <tbody>\n",
       "    <tr>\n",
       "      <th>28</th>\n",
       "      <td>2027-05-01</td>\n",
       "      <td>73911</td>\n",
       "      <td>61869</td>\n",
       "      <td>12042</td>\n",
       "      <td>16.292568</td>\n",
       "      <td>No</td>\n",
       "    </tr>\n",
       "    <tr>\n",
       "      <th>29</th>\n",
       "      <td>2027-06-01</td>\n",
       "      <td>73866</td>\n",
       "      <td>63308</td>\n",
       "      <td>10558</td>\n",
       "      <td>14.293450</td>\n",
       "      <td>No</td>\n",
       "    </tr>\n",
       "    <tr>\n",
       "      <th>30</th>\n",
       "      <td>2027-07-01</td>\n",
       "      <td>80935</td>\n",
       "      <td>62620</td>\n",
       "      <td>18315</td>\n",
       "      <td>22.629270</td>\n",
       "      <td>No</td>\n",
       "    </tr>\n",
       "    <tr>\n",
       "      <th>31</th>\n",
       "      <td>2027-08-01</td>\n",
       "      <td>77610</td>\n",
       "      <td>62889</td>\n",
       "      <td>14721</td>\n",
       "      <td>18.967917</td>\n",
       "      <td>No</td>\n",
       "    </tr>\n",
       "    <tr>\n",
       "      <th>32</th>\n",
       "      <td>2027-09-01</td>\n",
       "      <td>68265</td>\n",
       "      <td>60049</td>\n",
       "      <td>8216</td>\n",
       "      <td>12.035450</td>\n",
       "      <td>No</td>\n",
       "    </tr>\n",
       "  </tbody>\n",
       "</table>\n",
       "</div>"
      ],
      "text/plain": [
       "        month  total_revenue  total_expense  net_income  margin_pct  \\\n",
       "28 2027-05-01          73911          61869       12042   16.292568   \n",
       "29 2027-06-01          73866          63308       10558   14.293450   \n",
       "30 2027-07-01          80935          62620       18315   22.629270   \n",
       "31 2027-08-01          77610          62889       14721   18.967917   \n",
       "32 2027-09-01          68265          60049        8216   12.035450   \n",
       "\n",
       "   anomaly_flag  \n",
       "28           No  \n",
       "29           No  \n",
       "30           No  \n",
       "31           No  \n",
       "32           No  "
      ]
     },
     "execution_count": 7,
     "metadata": {},
     "output_type": "execute_result"
    }
   ],
   "source": [
    "import numpy as np\n",
    "\n",
    "company[\"net_income\"] = company[\"total_revenue\"] - company[\"total_expense\"]\n",
    "company[\"margin_pct\"] = (company[\"net_income\"] / company[\"total_revenue\"])\\\n",
    "    .replace([np.inf, -np.inf], 0) * 100\n",
    "company[\"anomaly_flag\"] = (company[\"margin_pct\"] < 5).map({True:\"Yes\", False:\"No\"})\n",
    "company.tail()\n"
   ]
  },
  {
   "cell_type": "markdown",
   "id": "a2894f5e",
   "metadata": {
    "papermill": {
     "duration": 0.006366,
     "end_time": "2025-09-19T21:01:46.064390",
     "exception": false,
     "start_time": "2025-09-19T21:01:46.058024",
     "status": "completed"
    },
    "tags": []
   },
   "source": [
    "## 📈 Step 7 — Visualize Trends\n",
    "One chart per figure: Revenue vs Expense and Margin % over time.\n"
   ]
  },
  {
   "cell_type": "code",
   "execution_count": 8,
   "id": "75a29e56",
   "metadata": {
    "execution": {
     "iopub.execute_input": "2025-09-19T21:01:46.080168Z",
     "iopub.status.busy": "2025-09-19T21:01:46.079816Z",
     "iopub.status.idle": "2025-09-19T21:01:46.849548Z",
     "shell.execute_reply": "2025-09-19T21:01:46.848298Z"
    },
    "papermill": {
     "duration": 0.779132,
     "end_time": "2025-09-19T21:01:46.851423",
     "exception": false,
     "start_time": "2025-09-19T21:01:46.072291",
     "status": "completed"
    },
    "tags": []
   },
   "outputs": [
    {
     "data": {
      "image/png": "[encoded data removed]",
      "text/plain": [
       "<Figure size 1000x500 with 1 Axes>"
      ]
     },
     "metadata": {},
     "output_type": "display_data"
    },
    {
     "data": {
      "image/png": "[encoded data removed]",
      "text/plain": [
       "<Figure size 1000x500 with 1 Axes>"
      ]
     },
     "metadata": {},
     "output_type": "display_data"
    }
   ],
   "source": [
    "import matplotlib.pyplot as plt\n",
    "\n",
    "company_plot = company.set_index(\"month\")\n",
    "\n",
    "company_plot[[\"total_revenue\",\"total_expense\"]].plot(figsize=(10,5))\n",
    "plt.title(\"Monthly Revenue vs Expense\")\n",
    "plt.ylabel(\"Amount\")\n",
    "plt.xlabel(\"Month\")\n",
    "plt.show()\n",
    "\n",
    "company_plot[\"margin_pct\"].plot(figsize=(10,5))\n",
    "plt.title(\"Profit Margin % (Company)\")\n",
    "plt.ylabel(\"%\")\n",
    "plt.xlabel(\"Month\")\n",
    "plt.show()\n"
   ]
  },
  {
   "cell_type": "markdown",
   "id": "57ed1f3c",
   "metadata": {
    "papermill": {
     "duration": 0.009572,
     "end_time": "2025-09-19T21:01:46.871286",
     "exception": false,
     "start_time": "2025-09-19T21:01:46.861714",
     "status": "completed"
    },
    "tags": []
   },
   "source": [
    "## 🔮 Step 8 — 3-Month Forecast (ETS/Holt-Winters)\n",
    "**Fixes we made:**  \n",
    "- Avoid multiplicative/Box-Cox to prevent convergence issues.  \n",
    "- If you have < 24 months, skip seasonality.\n"
   ]
  },
  {
   "cell_type": "code",
   "execution_count": 9,
   "id": "639cfad4",
   "metadata": {
    "execution": {
     "iopub.execute_input": "2025-09-19T21:01:46.892065Z",
     "iopub.status.busy": "2025-09-19T21:01:46.891772Z",
     "iopub.status.idle": "2025-09-19T21:01:49.073269Z",
     "shell.execute_reply": "2025-09-19T21:01:49.071966Z"
    },
    "papermill": {
     "duration": 2.193813,
     "end_time": "2025-09-19T21:01:49.074871",
     "exception": false,
     "start_time": "2025-09-19T21:01:46.881058",
     "status": "completed"
    },
    "tags": []
   },
   "outputs": [
    {
     "name": "stderr",
     "output_type": "stream",
     "text": [
      "/usr/local/lib/python3.11/dist-packages/statsmodels/tsa/holtwinters/model.py:918: ConvergenceWarning: Optimization failed to converge. Check mle_retvals.\n",
      "  warnings.warn(\n"
     ]
    },
    {
     "data": {
      "text/plain": [
       "2027-10-01    77249.604300\n",
       "2027-11-01    52648.270121\n",
       "2027-12-01    70470.647107\n",
       "Freq: MS, dtype: float64"
      ]
     },
     "execution_count": 9,
     "metadata": {},
     "output_type": "execute_result"
    }
   ],
   "source": [
    "from statsmodels.tsa.holtwinters import ExponentialSmoothing\n",
    "\n",
    "y = company.set_index(\"month\")[\"total_revenue\"].asfreq(\"MS\").interpolate(limit_direction=\"both\")\n",
    "n = len(y)\n",
    "\n",
    "seasonal = \"add\" if n >= 24 else None\n",
    "model = ExponentialSmoothing(y, trend=\"add\", seasonal=seasonal, seasonal_periods=(12 if seasonal else None))\n",
    "fit = model.fit(optimized=True, use_brute=True, remove_bias=True)\n",
    "forecast = fit.forecast(3)\n",
    "forecast\n"
   ]
  },
  {
   "cell_type": "markdown",
   "id": "8d4c7d4d",
   "metadata": {
    "papermill": {
     "duration": 0.010092,
     "end_time": "2025-09-19T21:01:49.096499",
     "exception": false,
     "start_time": "2025-09-19T21:01:49.086407",
     "status": "completed"
    },
    "tags": []
   },
   "source": [
    "## 🧾 Step 9 — Executive Summary (Numbers for your README)\n",
    "Summarize growth, average margin, anomaly months, and forecast.\n"
   ]
  },
  {
   "cell_type": "code",
   "execution_count": 10,
   "id": "80710604",
   "metadata": {
    "execution": {
     "iopub.execute_input": "2025-09-19T21:01:49.117684Z",
     "iopub.status.busy": "2025-09-19T21:01:49.117154Z",
     "iopub.status.idle": "2025-09-19T21:01:49.130241Z",
     "shell.execute_reply": "2025-09-19T21:01:49.129303Z"
    },
    "papermill": {
     "duration": 0.026025,
     "end_time": "2025-09-19T21:01:49.132185",
     "exception": false,
     "start_time": "2025-09-19T21:01:49.106160",
     "status": "completed"
    },
    "tags": []
   },
   "outputs": [
    {
     "data": {
      "text/plain": [
       "{'12m_revenue_growth_pct': -27.4,\n",
       " '12m_avg_margin_pct': 21.7,\n",
       " 'anomaly_months': ['2025-07', '2025-11', '2026-07'],\n",
       " 'next_3mo_revenue_forecast': {'2027-10': 77249.60430016377,\n",
       "  '2027-11': 52648.270121154776,\n",
       "  '2027-12': 70470.64710743983}}"
      ]
     },
     "execution_count": 10,
     "metadata": {},
     "output_type": "execute_result"
    }
   ],
   "source": [
    "last_12 = company.tail(12)\n",
    "rev_growth = float(\"nan\")\n",
    "if len(last_12) >= 2 and last_12[\"total_revenue\"].iloc[0] != 0:\n",
    "    rev_growth = (last_12[\"total_revenue\"].iloc[-1] / last_12[\"total_revenue\"].iloc[0] - 1) * 100\n",
    "\n",
    "avg_margin = company[\"margin_pct\"].tail(12).mean()\n",
    "anomaly_months = company.loc[company[\"anomaly_flag\"]==\"Yes\",\"month\"].dt.strftime(\"%Y-%m\").tolist()\n",
    "\n",
    "summary = {\n",
    "    \"12m_revenue_growth_pct\": None if pd.isna(rev_growth) else round(rev_growth, 1),\n",
    "    \"12m_avg_margin_pct\": round(float(avg_margin), 1) if not pd.isna(avg_margin) else None,\n",
    "    \"anomaly_months\": anomaly_months,\n",
    "    \"next_3mo_revenue_forecast\": {k.strftime(\"%Y-%m\"): float(v) for k,v in forecast.items()}\n",
    "}\n",
    "summary\n"
   ]
  },
  {
   "cell_type": "markdown",
   "id": "4e6aa65d",
   "metadata": {
    "papermill": {
     "duration": 0.00964,
     "end_time": "2025-09-19T21:01:49.151988",
     "exception": false,
     "start_time": "2025-09-19T21:01:49.142348",
     "status": "completed"
    },
    "tags": []
   },
   "source": [
    "## 💾 Step 10 — Save Artifacts for Portfolio\n",
    "Write figures & tables to `/kaggle/working`, then **Save Version** so they persist.\n"
   ]
  },
  {
   "cell_type": "code",
   "execution_count": 11,
   "id": "ad2f5e4a",
   "metadata": {
    "execution": {
     "iopub.execute_input": "2025-09-19T21:01:49.173648Z",
     "iopub.status.busy": "2025-09-19T21:01:49.173312Z",
     "iopub.status.idle": "2025-09-19T21:01:49.728383Z",
     "shell.execute_reply": "2025-09-19T21:01:49.727247Z"
    },
    "papermill": {
     "duration": 0.568005,
     "end_time": "2025-09-19T21:01:49.730198",
     "exception": false,
     "start_time": "2025-09-19T21:01:49.162193",
     "status": "completed"
    },
    "tags": []
   },
   "outputs": [
    {
     "data": {
      "text/plain": [
       "(PosixPath('/kaggle/working/figures'), PosixPath('/kaggle/working/outputs'))"
      ]
     },
     "execution_count": 11,
     "metadata": {},
     "output_type": "execute_result"
    }
   ],
   "source": [
    "from pathlib import Path\n",
    "\n",
    "FIG_DIR = Path(\"/kaggle/working/figures\"); FIG_DIR.mkdir(exist_ok=True, parents=True)\n",
    "OUT_DIR = Path(\"/kaggle/working/outputs\"); OUT_DIR.mkdir(exist_ok=True, parents=True)\n",
    "\n",
    "# replot and save\n",
    "company_plot = company.set_index(\"month\")\n",
    "ax = company_plot[[\"total_revenue\",\"total_expense\"]].plot(figsize=(10,5))\n",
    "plt.title(\"Monthly Revenue vs Expense\"); plt.ylabel(\"Amount\"); plt.xlabel(\"Month\")\n",
    "fig1 = ax.get_figure(); fig1.savefig(FIG_DIR/\"revenue_vs_expense.png\", bbox_inches=\"tight\")\n",
    "plt.close(fig1)\n",
    "\n",
    "ax = company_plot[\"margin_pct\"].plot(figsize=(10,5))\n",
    "plt.title(\"Profit Margin % (Company)\"); plt.ylabel(\"%\"); plt.xlabel(\"Month\")\n",
    "fig2 = ax.get_figure(); fig2.savefig(FIG_DIR/\"profit_margin.png\", bbox_inches=\"tight\")\n",
    "plt.close(fig2)\n",
    "\n",
    "# outputs\n",
    "company.to_csv(OUT_DIR/\"monthly_company.csv\", index=False)\n",
    "pd.Series(forecast).to_csv(OUT_DIR/\"forecast_next_3_months.csv\", header=[\"forecast\"])\n",
    "pd.Series(summary, dtype=\"object\").to_json(OUT_DIR/\"executive_summary.json\", indent=2)\n",
    "\n",
    "FIG_DIR, OUT_DIR\n"
   ]
  },
  {
   "cell_type": "markdown",
   "id": "95d65a52",
   "metadata": {
    "papermill": {
     "duration": 0.009622,
     "end_time": "2025-09-19T21:01:49.750118",
     "exception": false,
     "start_time": "2025-09-19T21:01:49.740496",
     "status": "completed"
    },
    "tags": []
   },
   "source": [
    "## 🧪 Step 11 — Repro Notes\n",
    "Record tool versions for transparency.\n"
   ]
  },
  {
   "cell_type": "code",
   "execution_count": 12,
   "id": "184c76d0",
   "metadata": {
    "execution": {
     "iopub.execute_input": "2025-09-19T21:01:49.771699Z",
     "iopub.status.busy": "2025-09-19T21:01:49.771315Z",
     "iopub.status.idle": "2025-09-19T21:01:49.778308Z",
     "shell.execute_reply": "2025-09-19T21:01:49.777405Z"
    },
    "papermill": {
     "duration": 0.019626,
     "end_time": "2025-09-19T21:01:49.779922",
     "exception": false,
     "start_time": "2025-09-19T21:01:49.760296",
     "status": "completed"
    },
    "tags": []
   },
   "outputs": [
    {
     "data": {
      "text/plain": [
       "{'python': '3.11.13',\n",
       " 'pandas': '2.2.3',\n",
       " 'numpy': '1.26.4',\n",
       " 'matplotlib': '3.7.2',\n",
       " 'statsmodels': '0.14.4'}"
      ]
     },
     "execution_count": 12,
     "metadata": {},
     "output_type": "execute_result"
    }
   ],
   "source": [
    "import sys, numpy, matplotlib, statsmodels, pandas\n",
    "versions = {\n",
    "    \"python\": sys.version.split()[0],\n",
    "    \"pandas\": pandas.__version__,\n",
    "    \"numpy\": numpy.__version__,\n",
    "    \"matplotlib\": matplotlib.__version__,\n",
    "    \"statsmodels\": statsmodels.__version__\n",
    "}\n",
    "versions\n"
   ]
  },
  {
   "cell_type": "code",
   "execution_count": null,
   "id": "16b59075",
   "metadata": {
    "papermill": {
     "duration": 0.009859,
     "end_time": "2025-09-19T21:01:49.800919",
     "exception": false,
     "start_time": "2025-09-19T21:01:49.791060",
     "status": "completed"
    },
    "tags": []
   },
   "outputs": [],
   "source": []
  }
 ],
 "metadata": {
  "kaggle": {
   "accelerator": "none",
   "dataSources": [
    {
     "datasetId": 6472535,
     "isSourceIdPinned": false,
     "sourceId": 10456056,
     "sourceType": "datasetVersion"
    }
   ],
   "dockerImageVersionId": 31089,
   "isGpuEnabled": false,
   "isInternetEnabled": false,
   "language": "python",
   "sourceType": "notebook"
  },
  "kernelspec": {
   "display_name": "Python 3",
   "language": "python",
   "name": "python3"
  },
  "language_info": {
   "codemirror_mode": {
    "name": "ipython",
    "version": 3
   },
   "file_extension": ".py",
   "mimetype": "text/x-python",
   "name": "python",
   "nbconvert_exporter": "python",
   "pygments_lexer": "ipython3",
   "version": "3.11.13"
  },
  "papermill": {
   "default_parameters": {},
   "duration": 13.873171,
   "end_time": "2025-09-19T21:01:50.532623",
   "environment_variables": {},
   "exception": null,
   "input_path": "__notebook__.ipynb",
   "output_path": "__notebook__.ipynb",
   "parameters": {},
   "start_time": "2025-09-19T21:01:36.659452",
   "version": "2.6.0"
  }
 },
 "nbformat": 4,
 "nbformat_minor": 5
}
